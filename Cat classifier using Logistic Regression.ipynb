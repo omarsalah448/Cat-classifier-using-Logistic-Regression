{
 "cells": [
  {
   "cell_type": "markdown",
   "id": "8ad5a6cc",
   "metadata": {},
   "source": [
    "# Cat classifier using Logistic Regression\n",
    "## We will be using numpy and implementing everything from scratch"
   ]
  },
  {
   "cell_type": "code",
   "execution_count": 1,
   "id": "3d89095e",
   "metadata": {},
   "outputs": [],
   "source": [
    "import h5py\n",
    "import copy\n",
    "import scipy\n",
    "import numpy as np\n",
    "from PIL import Image\n",
    "import matplotlib.pyplot as plt"
   ]
  },
  {
   "cell_type": "markdown",
   "id": "a44259fa",
   "metadata": {},
   "source": [
    "## Loading the Dataset"
   ]
  },
  {
   "cell_type": "code",
   "execution_count": 3,
   "id": "1d658cc8",
   "metadata": {},
   "outputs": [
    {
     "name": "stdout",
     "output_type": "stream",
     "text": [
      "Training set:\n",
      "list_classes\n",
      "train_set_x\n",
      "train_set_y\n",
      "Testing set:\n",
      "list_classes\n",
      "test_set_x\n",
      "test_set_y\n"
     ]
    }
   ],
   "source": [
    "train_file = 'train_catvnoncat.h5'\n",
    "test_file = 'test_catvnoncat.h5'\n",
    "train_set = h5py.File(train_file,'r')\n",
    "test_set = h5py.File(test_file,'r')\n",
    "print('Training set:')\n",
    "for key in train_set.keys(): #printing the classes\n",
    "    print(key)\n",
    "print('Testing set:')\n",
    "for key in test_set.keys(): #printing the classes\n",
    "    print(key)"
   ]
  },
  {
   "cell_type": "code",
   "execution_count": 7,
   "id": "456c643f",
   "metadata": {},
   "outputs": [
    {
     "name": "stdout",
     "output_type": "stream",
     "text": [
      "Train set| X: (209, 64, 64, 3), Y: (209,)\n",
      "Test  set| X: (50, 64, 64, 3), Y: (50,)\n"
     ]
    }
   ],
   "source": [
    "train_set_org_x = np.array(train_set['train_set_x'][:])\n",
    "test_set_org_x = np.array(test_set['test_set_x'][:])\n",
    "train_set_org_y = np.array(train_set['train_set_y'][:])\n",
    "test_set_org_y = np.array(test_set['test_set_y'][:])\n",
    "#gather some information about the shapes of our data\n",
    "print('Train set| X: {}, Y: {}'.format(train_set_org_x.shape, train_set_org_y.shape))\n",
    "print('Test  set| X: {}, Y: {}'.format(test_set_org_x.shape, test_set_org_y.shape))"
   ]
  },
  {
   "cell_type": "code",
   "execution_count": 8,
   "id": "31c6baa8",
   "metadata": {},
   "outputs": [
    {
     "name": "stdout",
     "output_type": "stream",
     "text": [
      "b'non-cat'\n",
      "b'cat'\n"
     ]
    }
   ],
   "source": [
    "classes = np.array(train_set['list_classes'][:])\n",
    "for classs in classes:\n",
    "    print(classs)"
   ]
  },
  {
   "cell_type": "code",
   "execution_count": 9,
   "id": "6d258b16",
   "metadata": {},
   "outputs": [
    {
     "name": "stdout",
     "output_type": "stream",
     "text": [
      "shape of train set x is (12288, 209)\n",
      "shape of train set y is (1, 209)\n",
      "shape of test set x is (12288, 50)\n",
      "shape of test set x is (1, 50)\n"
     ]
    }
   ],
   "source": [
    "#changing the shapes to be (pixels,m)\n",
    "train_set_x = train_set_org_x.reshape(-1,train_set_org_x.shape[0])\n",
    "train_set_y = train_set_org_y.reshape(-1,train_set_org_y.shape[0])\n",
    "test_set_x = test_set_org_x.reshape(-1,test_set_org_x.shape[0])\n",
    "test_set_y = test_set_org_y.reshape(-1,test_set_org_y.shape[0])\n",
    "print('shape of train set x is {}'.format(train_set_x .shape))\n",
    "print('shape of train set y is {}'.format(train_set_y .shape))\n",
    "print('shape of test set x is {}'.format(test_set_x .shape))\n",
    "print('shape of test set x is {}'.format(test_set_y .shape))"
   ]
  },
  {
   "cell_type": "code",
   "execution_count": 10,
   "id": "7dfc632f",
   "metadata": {},
   "outputs": [],
   "source": [
    "#standarizing the data set\n",
    "train_set_x = train_set_x/255\n",
    "test_set_x = test_set_x/255"
   ]
  },
  {
   "cell_type": "code",
   "execution_count": 11,
   "id": "29437ea7",
   "metadata": {},
   "outputs": [
    {
     "name": "stdout",
     "output_type": "stream",
     "text": [
      "img no. 10 is labeled as a non cat\n"
     ]
    },
    {
     "data": {
      "image/png": "[encoded data removed]",
      "text/plain": [
       "<Figure size 432x288 with 1 Axes>"
      ]
     },
     "metadata": {
      "needs_background": "light"
     },
     "output_type": "display_data"
    }
   ],
   "source": [
    "index = 10\n",
    "plt.imshow(train_set_org_x[index])\n",
    "if train_set_y[0,index] == 0:\n",
    "    label = 'non cat'\n",
    "else:\n",
    "    label = 'cat'\n",
    "print('img no. {} is labeled as a {}'.format(index, label))"
   ]
  },
  {
   "cell_type": "code",
   "execution_count": 12,
   "id": "b9d4f7a8",
   "metadata": {},
   "outputs": [],
   "source": [
    "def sigmoid(z):\n",
    "    return 1/(1+np.exp(-1*z))"
   ]
  },
  {
   "cell_type": "code",
   "execution_count": 18,
   "id": "3b2e49f5",
   "metadata": {},
   "outputs": [],
   "source": [
    "def initialize_with_zeros(dim):\n",
    "    #intialize the weights\n",
    "    w = np.zeros((dim,1))\n",
    "    b = 0\n",
    "    return w,b"
   ]
  },
  {
   "cell_type": "code",
   "execution_count": 13,
   "id": "6dc9a93d",
   "metadata": {},
   "outputs": [],
   "source": [
    "def propagate(w,b,X,Y):\n",
    "    m = X.shape[1]\n",
    "    \n",
    "    #forward propagation\n",
    "    A = sigmoid(np.dot(w.T,X) + b)\n",
    "    J = (-1/m)*np.sum( np.multiply(Y, np.log(A)) + np.multiply((1-Y), np.log(1-A)) )\n",
    "    \n",
    "    #backward propagation\n",
    "    dw = (1/m)*np.dot(X,(A-Y).T)\n",
    "    db = (1/m)*np.sum(A-Y)\n",
    "    \n",
    "    grads = {'dw':dw, 'db':db}\n",
    "    return grads,J"
   ]
  },
  {
   "cell_type": "code",
   "execution_count": 14,
   "id": "8f9ca299",
   "metadata": {},
   "outputs": [],
   "source": [
    "def optimize(w, b, X, Y, num_iterations=100, learning_rate=0.009):\n",
    "    w = copy.deepcopy(w)\n",
    "    b = copy.deepcopy(b)\n",
    "    costs = []\n",
    "    \n",
    "    for i in range(num_iterations):\n",
    "        grads,J = propagate(w,b,X,Y)\n",
    "        dw = grads['dw']\n",
    "        db = grads['db']\n",
    "        w = w-dw*learning_rate\n",
    "        b = b-db*learning_rate\n",
    "        \n",
    "    params = {'w':w, 'b':b}\n",
    "    grads = {'dw':dw, 'db':db}\n",
    "    \n",
    "    return params,grads,J"
   ]
  },
  {
   "cell_type": "code",
   "execution_count": 15,
   "id": "e4d7632e",
   "metadata": {},
   "outputs": [],
   "source": [
    "def predict(w, b, X):\n",
    "    m = X.shape[1]\n",
    "    Y_prediction = np.zeros((1, m))\n",
    "    w = w.reshape(X.shape[0], 1)\n",
    "    A = sigmoid(np.dot(w.T,X) + b)\n",
    "    \n",
    "    for i in range(m):\n",
    "        if A[0, i] > 0.5 :\n",
    "            Y_prediction[0,i] = 1\n",
    "        else:\n",
    "            Y_prediction[0,i] = 0\n",
    "    return Y_prediction"
   ]
  },
  {
   "cell_type": "markdown",
   "id": "06ea07d1",
   "metadata": {},
   "source": [
    "## Putting the model together"
   ]
  },
  {
   "cell_type": "code",
   "execution_count": 16,
   "id": "94aaee22",
   "metadata": {},
   "outputs": [],
   "source": [
    "def model(X_train, Y_train, X_test, Y_test, num_iterations=2000, learning_rate=0.5):\n",
    "    w, b = initialize_with_zeros(X_train.shape[0])\n",
    "    params, grads, costs = optimize(w, b, X_train, Y_train, num_iterations, learning_rate)\n",
    "    \n",
    "    w = params['w']\n",
    "    b = params['b']\n",
    "    \n",
    "    Y_prediction_train =  predict(w, b, X_train)\n",
    "    Y_prediction_test = predict(w, b, X_test)\n",
    "  \n",
    "    print(\"train accuracy: {} %\".format(100 - np.mean(np.abs(Y_prediction_train - Y_train)) * 100))\n",
    "    print(\"test accuracy: {} %\".format(100 - np.mean(np.abs(Y_prediction_test - Y_test)) * 100))\n",
    "\n",
    "    \n",
    "    d = {\"costs\": costs,\n",
    "         \"Y_prediction_test\": Y_prediction_test, \n",
    "         \"Y_prediction_train\" : Y_prediction_train, \n",
    "         \"w\" : w, \n",
    "         \"b\" : b,\n",
    "         \"learning_rate\" : learning_rate,\n",
    "         \"num_iterations\": num_iterations}\n",
    "    \n",
    "    return d"
   ]
  },
  {
   "cell_type": "markdown",
   "id": "8c58ca27",
   "metadata": {},
   "source": [
    "## Accuracy"
   ]
  },
  {
   "cell_type": "code",
   "execution_count": 20,
   "id": "e7e3be6c",
   "metadata": {},
   "outputs": [
    {
     "name": "stdout",
     "output_type": "stream",
     "text": [
      "train accuracy: 75.59808612440192 %\n",
      "test accuracy: 62.0 %\n"
     ]
    }
   ],
   "source": [
    "logistic_regression_model = model(train_set_x, train_set_y, test_set_x,\n",
    "                                  test_set_y, num_iterations=2000, learning_rate=0.01)"
   ]
  },
  {
   "cell_type": "markdown",
   "id": "0a60c4d9",
   "metadata": {},
   "source": [
    "## Testing with more images"
   ]
  },
  {
   "cell_type": "code",
   "execution_count": 21,
   "id": "22306841",
   "metadata": {},
   "outputs": [
    {
     "name": "stdout",
     "output_type": "stream",
     "text": [
      "y = 1.0, your algorithm predicts a \"cat\" picture.\n"
     ]
    },
    {
     "data": {
      "image/png": "[encoded data removed]",
      "text/plain": [
       "<Figure size 432x288 with 1 Axes>"
      ]
     },
     "metadata": {
      "needs_background": "light"
     },
     "output_type": "display_data"
    }
   ],
   "source": [
    "my_image = \"cat.jpg\"   \n",
    "\n",
    "# We preprocess the image to fit your algorithm.\n",
    "image = np.array(Image.open(my_image).resize((64, 64)))\n",
    "plt.imshow(image)\n",
    "image = image / 255.\n",
    "image = image.reshape((1, 64 * 64 * 3)).T\n",
    "my_predicted_image = predict(logistic_regression_model[\"w\"], logistic_regression_model[\"b\"], image)\n",
    "\n",
    "print(\"y = \" + str(np.squeeze(my_predicted_image)) + \", your algorithm predicts a \\\"\" + classes[int(np.squeeze(my_predicted_image)),].decode(\"utf-8\") +  \"\\\" picture.\")"
   ]
  },
  {
   "cell_type": "code",
   "execution_count": null,
   "id": "ed824d02",
   "metadata": {},
   "outputs": [],
   "source": []
  }
 ],
 "metadata": {
  "kernelspec": {
   "display_name": "Python 3",
   "language": "python",
   "name": "python3"
  },
  "language_info": {
   "codemirror_mode": {
    "name": "ipython",
    "version": 3
   },
   "file_extension": ".py",
   "mimetype": "text/x-python",
   "name": "python",
   "nbconvert_exporter": "python",
   "pygments_lexer": "ipython3",
   "version": "3.8.8"
  }
 },
 "nbformat": 4,
 "nbformat_minor": 5
}
